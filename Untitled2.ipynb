{
  "nbformat": 4,
  "nbformat_minor": 0,
  "metadata": {
    "colab": {
      "provenance": [],
      "authorship_tag": "ABX9TyNYDHemoEZZPKi5qy+rKPLt",
      "include_colab_link": true
    },
    "kernelspec": {
      "name": "python3",
      "display_name": "Python 3"
    },
    "language_info": {
      "name": "python"
    }
  },
  "cells": [
    {
      "cell_type": "markdown",
      "metadata": {
        "id": "view-in-github",
        "colab_type": "text"
      },
      "source": [
        "<a href=\"https://colab.research.google.com/github/amarhassan12/tasks/blob/main/Untitled2.ipynb\" target=\"_parent\"><img src=\"https://colab.research.google.com/assets/colab-badge.svg\" alt=\"Open In Colab\"/></a>"
      ]
    },
    {
      "cell_type": "code",
      "execution_count": 1,
      "metadata": {
        "colab": {
          "base_uri": "https://localhost:8080/"
        },
        "id": "JHFQT7QCQM25",
        "outputId": "efb4f639-01ca-42b5-a788-e1c11488506f"
      },
      "outputs": [
        {
          "output_type": "stream",
          "name": "stdout",
          "text": [
            "Manual Mean: 20.5\n",
            "NumPy Mean: 20.5\n"
          ]
        }
      ],
      "source": [
        "import numpy as np\n",
        "\n",
        "ages = [18, 21, 20, 19, 22, 23, 20, 21, 22, 19]\n",
        "\n",
        "\n",
        "manual_mean = sum(ages) / len(ages)\n",
        "\n",
        "\n",
        "numpy_mean = np.mean(ages)\n",
        "\n",
        "print(\"Manual Mean:\", manual_mean)\n",
        "print(\"NumPy Mean:\", numpy_mean)"
      ]
    },
    {
      "cell_type": "code",
      "source": [
        "import numpy as np\n",
        "\n",
        "ages = [18, 21, 20, 19, 22, 23, 20, 21, 22, 19]\n",
        "\n",
        "manual_mean = sum(ages) / len(ages)\n",
        "\n",
        "\n",
        "numpy_mean = np.mean(ages)\n",
        "\n",
        "print(\"Manual Mean:\", manual_mean)\n",
        "print(\"NumPy Mean:\", numpy_mean)"
      ],
      "metadata": {
        "colab": {
          "base_uri": "https://localhost:8080/"
        },
        "id": "xPb8HbsrQmsj",
        "outputId": "5306fb52-991e-45f0-e390-fd20cfd3680b"
      },
      "execution_count": 2,
      "outputs": [
        {
          "output_type": "stream",
          "name": "stdout",
          "text": [
            "Manual Mean: 20.5\n",
            "NumPy Mean: 20.5\n"
          ]
        }
      ]
    },
    {
      "cell_type": "code",
      "source": [
        "import numpy as np\n",
        "import random\n",
        "\n",
        "\n",
        "rand_list = [random.randint(10, 50) for _ in range(15)]\n",
        "\n",
        "sorted_list = sorted(rand_list)\n",
        "\n",
        "\n",
        "n = len(sorted_list)\n",
        "if n % 2 == 1:\n",
        "    manual_median = sorted_list[n // 2]\n",
        "else:\n",
        "    manual_median = (sorted_list[n // 2 - 1] + sorted_list[n // 2]) / 2\n",
        "\n",
        "\n",
        "numpy_median = np.median(rand_list)\n",
        "\n",
        "print(\"Random List:\", rand_list)\n",
        "print(\"Sorted List:\", sorted_list)\n",
        "print(\"Manual Median:\", manual_median)\n",
        "print(\"NumPy Median:\", numpy_median)"
      ],
      "metadata": {
        "colab": {
          "base_uri": "https://localhost:8080/"
        },
        "id": "S9aYCsNGQwrR",
        "outputId": "84bbf41c-249c-4730-cc04-69e8077180fd"
      },
      "execution_count": 3,
      "outputs": [
        {
          "output_type": "stream",
          "name": "stdout",
          "text": [
            "Random List: [11, 31, 44, 42, 49, 49, 33, 48, 43, 44, 13, 36, 41, 21, 47]\n",
            "Sorted List: [11, 13, 21, 31, 33, 36, 41, 42, 43, 44, 44, 47, 48, 49, 49]\n",
            "Manual Median: 42\n",
            "NumPy Median: 42.0\n"
          ]
        }
      ]
    },
    {
      "cell_type": "code",
      "source": [
        "import numpy as np\n",
        "\n",
        "data = [5, 7, 3, 7, 9, 10, 15, 7]\n",
        "\n",
        "\n",
        "mean_data = sum(data) / len(data)\n",
        "\n",
        "\n",
        "var_manual = sum((x - mean_data) ** 2 for x in data) / len(data)\n",
        "\n",
        "\n",
        "std_manual = var_manual ** 0.5\n",
        "\n",
        "var_numpy = np.var(data)\n",
        "std_numpy = np.std(data)\n",
        "\n",
        "print(\"Manual Variance:\", var_manual)\n",
        "print(\"Manual Std Dev:\", std_manual)\n",
        "print(\"NumPy Variance:\", var_numpy)\n",
        "print(\"NumPy Std Dev:\", std_numpy)"
      ],
      "metadata": {
        "colab": {
          "base_uri": "https://localhost:8080/"
        },
        "id": "dZ4nzZn_RA4b",
        "outputId": "45d43698-3342-4710-91a3-845f557eaaec"
      },
      "execution_count": 4,
      "outputs": [
        {
          "output_type": "stream",
          "name": "stdout",
          "text": [
            "Manual Variance: 11.359375\n",
            "Manual Std Dev: 3.370367190678191\n",
            "NumPy Variance: 11.359375\n",
            "NumPy Std Dev: 3.370367190678191\n"
          ]
        }
      ]
    },
    {
      "cell_type": "code",
      "source": [
        "import numpy as np\n",
        "\n",
        "data = [5, 7, 3, 7, 9, 10, 15, 7]\n",
        "\n",
        "q1 = np.percentile(data, 25)\n",
        "q2 = np.percentile(data, 50)\n",
        "q3 = np.percentile(data, 75)\n",
        "\n",
        "\n",
        "iqr = q3 - q1\n",
        "\n",
        "print(\"Q1 (25th):\", q1)\n",
        "print(\"Q2 (Median, 50th):\", q2)\n",
        "print(\"Q3 (75th):\", q3)\n",
        "print(\"IQR:\", iqr)"
      ],
      "metadata": {
        "id": "4VpymlaERRnF"
      },
      "execution_count": null,
      "outputs": []
    },
    {
      "cell_type": "code",
      "source": [
        "def z_scores(x):\n",
        "    n = len(x)\n",
        "    mean = sum(x) / n\n",
        "    var = sum((v - mean) ** 2 for v in x) / n\n",
        "    std = var ** 0.5\n",
        "    return [(v - mean) / std for v in x]\n",
        "\n",
        "data = [12, 15, 20, 22, 18, 30, 25, 17]\n",
        "zs = z_scores(data)\n",
        "print(\"Data:\", data)\n",
        "print(\"Z-Scores:\", zs)"
      ],
      "metadata": {
        "colab": {
          "base_uri": "https://localhost:8080/"
        },
        "id": "uR1mxY6nSDPl",
        "outputId": "23239356-ab4c-4c80-a908-5d0f71c73907"
      },
      "execution_count": 6,
      "outputs": [
        {
          "output_type": "stream",
          "name": "stdout",
          "text": [
            "Data: [12, 15, 20, 22, 18, 30, 25, 17]\n",
            "Z-Scores: [-1.46590930553058, -0.9074676653284544, 0.023268401675088573, 0.39556282847650576, -0.3490260251263286, 1.8847405356821745, 0.9540044686786315, -0.5351732385270372]\n"
          ]
        }
      ]
    },
    {
      "cell_type": "code",
      "source": [
        "import numpy as np\n",
        "import random\n",
        "\n",
        "nums = [random.randint(1, 100) for _ in range(20)]\n",
        "ma_slice = [sum(nums[i:i+3]) / 3 for i in range(len(nums) - 2)]\n",
        "ma_np = np.convolve(nums, np.ones(3) / 3, mode=\"valid\").tolist()\n",
        "\n",
        "print(\"Nums:\", nums)\n",
        "print(\"Moving Average (slice):\", ma_slice)\n",
        "print(\"Moving Average (numpy):\", ma_np)"
      ],
      "metadata": {
        "id": "3hKgBdJfR9Bl"
      },
      "execution_count": null,
      "outputs": []
    },
    {
      "cell_type": "code",
      "source": [
        "import numpy as np\n",
        "import random\n",
        "\n",
        "lst = [random.randint(1, 50) for _ in range(25)]\n",
        "lst += [300, 400]\n",
        "q1 = float(np.percentile(lst, 25))\n",
        "q3 = float(np.percentile(lst, 75))\n",
        "iqr = q3 - q1\n",
        "low = q1 - 1.5 * iqr\n",
        "high = q3 + 1.5 * iqr\n",
        "outliers = [x for x in lst if x < low or x > high]\n",
        "\n",
        "print(\"List:\", lst)\n",
        "print(\"Q1:\", q1, \"Q3:\", q3, \"IQR:\", iqr)\n",
        "print(\"Lower Fence:\", low, \"Upper Fence:\", high)\n",
        "print(\"Outliers:\", outliers)"
      ],
      "metadata": {
        "colab": {
          "base_uri": "https://localhost:8080/"
        },
        "id": "IbjO_JLvR0GG",
        "outputId": "6ac15129-78b8-4b8f-a6ac-6319b2cd2e90"
      },
      "execution_count": 5,
      "outputs": [
        {
          "output_type": "stream",
          "name": "stdout",
          "text": [
            "List: [46, 25, 15, 29, 36, 41, 8, 16, 23, 15, 30, 32, 25, 45, 1, 37, 18, 19, 12, 26, 39, 17, 1, 6, 17, 300, 400]\n",
            "Q1: 15.5 Q3: 36.5 IQR: 21.0\n",
            "Lower Fence: -16.0 Upper Fence: 68.0\n",
            "Outliers: [300, 400]\n"
          ]
        }
      ]
    },
    {
      "cell_type": "code",
      "source": [],
      "metadata": {
        "id": "Mg-YiHxFR7qV"
      },
      "execution_count": null,
      "outputs": []
    }
  ]
}