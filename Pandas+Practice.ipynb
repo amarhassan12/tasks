{
  "cells": [
    {
      "cell_type": "markdown",
      "metadata": {
        "id": "view-in-github",
        "colab_type": "text"
      },
      "source": [
        "<a href=\"https://colab.research.google.com/github/amarhassan12/tasks/blob/main/Pandas%2BPractice.ipynb\" target=\"_parent\"><img src=\"https://colab.research.google.com/assets/colab-badge.svg\" alt=\"Open In Colab\"/></a>"
      ]
    },
    {
      "cell_type": "markdown",
      "metadata": {
        "collapsed": true,
        "jupyter": {
          "outputs_hidden": true
        },
        "id": "GuX4TbAeIfIq"
      },
      "source": [
        "# Part 1"
      ]
    },
    {
      "cell_type": "markdown",
      "metadata": {
        "id": "aTMbTcvTIfIt"
      },
      "source": [
        "The file \"Purchase_Data.csv\" contains purchase data at a Chinese supermarket for various products.  Read this csv into a dataframe called df_data and use the head() method to check that you have read in the data correctly. Make sure you import pandas."
      ]
    },
    {
      "cell_type": "code",
      "execution_count": null,
      "metadata": {
        "jupyter": {
          "outputs_hidden": false
        },
        "id": "Qmqt0IK_IfIv"
      },
      "outputs": [],
      "source": [
        "import pandas as pd\n",
        "\n",
        "# لو الملف في نفس الفولدر\n",
        "df_data = pd.read_csv(\"Purchase_Data.csv\")\n",
        "df_titanic = pd.read_csv(\"Titanic.csv\")\n",
        "\n",
        "print(\"Purchase_Data:\")\n",
        "print(df_data.head())\n",
        "\n",
        "print(\"\\nTitanic:\")\n",
        "print(df_titanic.head())\n"
      ]
    },
    {
      "cell_type": "markdown",
      "metadata": {
        "id": "KJlVMDdLIfIw"
      },
      "source": [
        "Use the dtypes attribute to view how each column is stored"
      ]
    },
    {
      "cell_type": "code",
      "execution_count": null,
      "metadata": {
        "jupyter": {
          "outputs_hidden": false
        },
        "id": "PgDGGW2VIfIx"
      },
      "outputs": [],
      "source": [
        "import pandas as pd\n",
        "\n",
        "# قراءة الداتا\n",
        "df_data = pd.read_csv(\"Purchase_Data.csv\")\n",
        "\n",
        "# عرض نوع البيانات لكل عمود\n",
        "print(df_data.dtypes)\n",
        "\n"
      ]
    },
    {
      "cell_type": "markdown",
      "metadata": {
        "id": "-c8zWoMYIfIy"
      },
      "source": [
        "Slice the first two columns using .loc and store the result in a variable called result_1."
      ]
    },
    {
      "cell_type": "code",
      "execution_count": null,
      "metadata": {
        "jupyter": {
          "outputs_hidden": false
        },
        "id": "EL1cGfXaIfIy"
      },
      "outputs": [],
      "source": [
        "import pandas as pd\n",
        "\n",
        "# قراءة البيانات\n",
        "df_data = pd.read_csv(\"Purchase_Data.csv\")\n",
        "\n",
        "# Slice لأول عمودين باستخدام .loc\n",
        "result_1 = df_data.loc[:, df_data.columns[0:2]]\n",
        "\n",
        "# عرض النتيجة\n",
        "print(result_1.head())\n"
      ]
    },
    {
      "cell_type": "markdown",
      "metadata": {
        "id": "t9o_-nMTIfIz"
      },
      "source": [
        "Slice the first two rows using .loc and store the result in a variable called result_2."
      ]
    },
    {
      "cell_type": "code",
      "execution_count": null,
      "metadata": {
        "jupyter": {
          "outputs_hidden": false
        },
        "id": "wwVjpWNnIfI0"
      },
      "outputs": [],
      "source": [
        "import pandas as pd\n",
        "\n",
        "# قراءة البيانات\n",
        "df_data = pd.read_csv(\"Purchase_Data.csv\")\n",
        "\n",
        "# Slice لأول صفين باستخدام .loc\n",
        "result_2 = df_data.loc[0:1, :]\n",
        "\n",
        "# عرض النتيجة\n",
        "print(result_2)\n"
      ]
    },
    {
      "cell_type": "markdown",
      "metadata": {
        "id": "cgPYeE_HIfI0"
      },
      "source": [
        "Slice the first four rows and the first five columns and store the result in a variable called result_3."
      ]
    },
    {
      "cell_type": "code",
      "execution_count": null,
      "metadata": {
        "jupyter": {
          "outputs_hidden": false
        },
        "id": "Lx0-CpgMIfI1"
      },
      "outputs": [],
      "source": [
        "import pandas as pd\n",
        "\n",
        "# قراءة البيانات\n",
        "df_data = pd.read_csv(\"Purchase_Data.csv\")\n",
        "\n",
        "# Slice أول 4 صفوف وأول 5 أعمدة\n",
        "result_3 = df_data.iloc[0:4, 0:5]\n",
        "\n",
        "# عرض النتيجة\n",
        "print(result_3)\n"
      ]
    },
    {
      "cell_type": "markdown",
      "metadata": {
        "id": "wt_yvX-jIfI1"
      },
      "source": [
        "Slice rows 0,4,6 and columns invoice time and price and store the result in variable called result_4."
      ]
    },
    {
      "cell_type": "code",
      "execution_count": null,
      "metadata": {
        "jupyter": {
          "outputs_hidden": false
        },
        "id": "4cerqU0BIfI1"
      },
      "outputs": [],
      "source": [
        "import pandas as pd\n",
        "\n",
        "# قراءة البيانات\n",
        "df_data = pd.read_csv(\"Purchase_Data.csv\")\n",
        "\n",
        "# Slice الصفوف 0, 4, 6 والأعمدة المطلوبة\n",
        "result_4 = df_data.loc[[0, 4, 6], [\"invoice_time\", \"price\"]]\n",
        "\n",
        "# عرض النتيجة\n",
        "print(result_4)\n"
      ]
    },
    {
      "cell_type": "markdown",
      "metadata": {
        "id": "xl57CRxLIfI2"
      },
      "source": [
        "Store the number rows in a variable called num_rows."
      ]
    },
    {
      "cell_type": "code",
      "execution_count": null,
      "metadata": {
        "jupyter": {
          "outputs_hidden": false
        },
        "id": "U6wEwdz0IfI2"
      },
      "outputs": [],
      "source": [
        "\n",
        "import pandas as pd\n",
        "\n",
        "# قراءة البيانات\n",
        "df_data = pd.read_csv(\"Purchase_Data.csv\")\n",
        "\n",
        "# تخزين عدد الصفوف\n",
        "num_rows = df_data.shape[0]\n",
        "\n",
        "# عرض النتيجة\n",
        "print(\"Number of rows:\", num_rows)\n"
      ]
    },
    {
      "cell_type": "markdown",
      "metadata": {
        "id": "TTn6YyvvIfI2"
      },
      "source": [
        "Print out the last row of the data to dataframe. **Hint:** use the variable num_rows from the previous exercise."
      ]
    },
    {
      "cell_type": "code",
      "execution_count": null,
      "metadata": {
        "jupyter": {
          "outputs_hidden": false
        },
        "id": "oVk3JgzIIfI3"
      },
      "outputs": [],
      "source": [
        "import pandas as pd\n",
        "\n",
        "# قراءة البيانات\n",
        "df_data = pd.read_csv(\"Purchase_Data.csv\")\n",
        "\n",
        "# عدد الصفوف\n",
        "num_rows = df_data.shape[0]\n",
        "\n",
        "# طباعة آخر صف باستخدام num_rows\n",
        "last_row = df_data.loc[num_rows - 1, :]\n",
        "\n",
        "print(\"Last row of the dataframe:\")\n",
        "print(last_row)\n"
      ]
    },
    {
      "cell_type": "markdown",
      "metadata": {
        "id": "2mzwFoTVIfI3"
      },
      "source": [
        "# Part 2"
      ]
    },
    {
      "cell_type": "markdown",
      "metadata": {
        "id": "fl9JWDxYIfI3"
      },
      "source": [
        "Compute the average and max price charged.  Store the results in variables called avg_price and max_price"
      ]
    },
    {
      "cell_type": "code",
      "execution_count": null,
      "metadata": {
        "jupyter": {
          "outputs_hidden": false
        },
        "id": "UuK0dmLNIfI4"
      },
      "outputs": [],
      "source": [
        "import pandas as pd\n",
        "\n",
        "# قراءة البيانات\n",
        "df_data = pd.read_csv(\"Purchase_Data.csv\")\n",
        "\n",
        "# حساب المتوسط وأعلى قيمة للسعر\n",
        "avg_price = df_data[\"price\"].mean()\n",
        "max_price = df_data[\"price\"].max()\n",
        "\n",
        "# عرض النتائج\n",
        "print(\"Average price:\", avg_price)\n",
        "print(\"Max price:\", max_price)\n"
      ]
    },
    {
      "cell_type": "markdown",
      "metadata": {
        "id": "UBE0J5jJIfI4"
      },
      "source": [
        "Compute the average price and average number of items purchased with only a single call to the mean() method. Store these averages in avg_price and avg_num_items."
      ]
    },
    {
      "cell_type": "code",
      "execution_count": null,
      "metadata": {
        "jupyter": {
          "outputs_hidden": false
        },
        "id": "0daBF9wCIfI4"
      },
      "outputs": [],
      "source": [
        "import pandas as pd\n",
        "\n",
        "# قراءة البيانات\n",
        "df_data = pd.read_csv(\"Purchase_Data.csv\")\n",
        "\n",
        "# حساب المتوسط للسعر وعدد الوحدات باستدعاء واحد\n",
        "averages = df_data[[\"price\", \"num_item\"]].mean()\n",
        "\n",
        "# تخزين النتائج في متغيرات منفصلة\n",
        "avg_price = averages[\"price\"]\n",
        "avg_num_items = averages[\"num_item\"]\n",
        "\n",
        "# عرض النتائج\n",
        "print(\"Average price:\", avg_price)\n",
        "print(\"Average number of items:\", avg_num_items)\n"
      ]
    },
    {
      "cell_type": "markdown",
      "metadata": {
        "id": "x9jNPkDLIfI5"
      },
      "source": [
        "Create a column called \"total\", which is the product of the price and num_item columns."
      ]
    },
    {
      "cell_type": "code",
      "execution_count": null,
      "metadata": {
        "jupyter": {
          "outputs_hidden": false
        },
        "id": "Cj9PEF5MIfI5"
      },
      "outputs": [],
      "source": [
        "import pandas as pd\n",
        "\n",
        "# قراءة البيانات\n",
        "df_data = pd.read_csv(\"Purchase_Data.csv\")\n",
        "\n",
        "# إنشاء العمود الجديد\n",
        "df_data[\"total\"] = df_data[\"price\"] * df_data[\"num_item\"]\n",
        "\n",
        "# عرض أول 5 صفوف للتأكد\n",
        "print(df_data.head())\n",
        "\n"
      ]
    },
    {
      "cell_type": "markdown",
      "metadata": {
        "id": "T3kNFEhhIfI5"
      },
      "source": [
        "What is the avgerage price of the three most expensive purchases?"
      ]
    },
    {
      "cell_type": "code",
      "execution_count": null,
      "metadata": {
        "jupyter": {
          "outputs_hidden": false
        },
        "id": "O6Eg9KJKIfI6"
      },
      "outputs": [],
      "source": [
        "import pandas as pd\n",
        "\n",
        "# قراءة البيانات\n",
        "df_data = pd.read_csv(\"Purchase_Data.csv\")\n",
        "\n",
        "# حساب متوسط أغلى 3 أسعار\n",
        "avg_top3_price = df_data[\"price\"].nlargest(3).mean()\n",
        "\n",
        "print(\"Average price of the three most expensive purchases:\", avg_top3_price)\n"
      ]
    },
    {
      "cell_type": "markdown",
      "metadata": {
        "id": "zsxK_3DEIfI6"
      },
      "source": [
        "How many different products are there?"
      ]
    },
    {
      "cell_type": "code",
      "execution_count": null,
      "metadata": {
        "jupyter": {
          "outputs_hidden": false
        },
        "id": "dLsSRhh8IfI6"
      },
      "outputs": [],
      "source": [
        "import pandas as pd\n",
        "\n",
        "# قراءة البيانات\n",
        "df_data = pd.read_csv(\"Purchase_Data.csv\")\n",
        "\n",
        "# حساب عدد المنتجات المختلفة\n",
        "num_products = df_data[\"product_id\"].nunique()\n",
        "\n",
        "print(\"Number of different products:\", num_products)\n"
      ]
    },
    {
      "cell_type": "markdown",
      "metadata": {
        "id": "9t4SJd6PIfI6"
      },
      "source": [
        "Find the difference between the mean and median of the column total.  Use the describe() method and then index the dataframe it returns."
      ]
    },
    {
      "cell_type": "code",
      "execution_count": null,
      "metadata": {
        "jupyter": {
          "outputs_hidden": false
        },
        "id": "cYWn1hGiIfI7"
      },
      "outputs": [],
      "source": [
        "import pandas as pd\n",
        "\n",
        "# قراءة البيانات\n",
        "df_data = pd.read_csv(\"Purchase_Data.csv\")\n",
        "\n",
        "# إنشاء عمود total\n",
        "df_data[\"total\"] = df_data[\"price\"] * df_data[\"num_item\"]\n",
        "\n",
        "# استخدام describe()\n",
        "desc = df_data[\"total\"].describe()\n",
        "\n",
        "# حساب الفرق بين المتوسط والوسيط\n",
        "diff_mean_median = desc[\"mean\"] - desc[\"50%\"]\n",
        "\n",
        "print(\"Mean of total:\", desc[\"mean\"])\n",
        "print(\"Median of total:\", desc[\"50%\"])\n",
        "print(\"Difference (mean - median):\", diff_mean_median)\n"
      ]
    },
    {
      "cell_type": "markdown",
      "metadata": {
        "id": "YHbvlht3IfI7"
      },
      "source": [
        "Use the drop() method to delete the column total from the dataframe df_data."
      ]
    },
    {
      "cell_type": "code",
      "execution_count": null,
      "metadata": {
        "jupyter": {
          "outputs_hidden": false
        },
        "id": "E1agWen6IfI7"
      },
      "outputs": [],
      "source": [
        "import pandas as pd\n",
        "\n",
        "# قراءة البيانات\n",
        "df_data = pd.read_csv(\"Purchase_Data.csv\")\n",
        "\n",
        "# إنشاء العمود total (لو مش موجود)\n",
        "df_data[\"total\"] = df_data[\"price\"] * df_data[\"num_item\"]\n",
        "\n",
        "# حذف العمود total\n",
        "df_data = df_data.drop(columns=[\"total\"])\n",
        "\n",
        "# عرض الأعمدة للتأكد\n",
        "print(df_data.head())\n"
      ]
    },
    {
      "cell_type": "markdown",
      "metadata": {
        "id": "rWSIGSXDIfI8"
      },
      "source": [
        "Let's dig a little deeper into the data set and answer some basic question."
      ]
    },
    {
      "cell_type": "code",
      "execution_count": null,
      "metadata": {
        "jupyter": {
          "outputs_hidden": false
        },
        "id": "gwMrEsbDIfI8"
      },
      "outputs": [],
      "source": [
        "import pandas as pd\n",
        "\n",
        "# قراءة البيانات\n",
        "df_data = pd.read_csv(\"Purchase_Data.csv\")\n",
        "\n",
        "# 1. إجمالي عدد المشتريات (transactions)\n",
        "total_transactions = df_data.shape[0]\n",
        "\n",
        "# 2. عدد المتاجر المختلفة\n",
        "num_stores = df_data[\"store_id\"].nunique()\n",
        "\n",
        "# 3. الفئة الأكثر مبيعًا\n",
        "top_category = df_data[\"category_id\"].value_counts().idxmax()\n",
        "top_category_count = df_data[\"category_id\"].value_counts().max()\n",
        "\n",
        "# عرض النتائج\n",
        "print(\"Total transactions:\", total_transactions)\n",
        "print(\"Number of different stores:\", num_stores)\n",
        "print(\"Most sold category:\", top_category, \"with\", top_category_count, \"purchases\")\n"
      ]
    },
    {
      "cell_type": "markdown",
      "metadata": {
        "id": "EMfZ1nMjIfI8"
      },
      "source": [
        "First, covert the column invoice time to a datetime column. Print out the new column types to make sure this was done correctly"
      ]
    },
    {
      "cell_type": "code",
      "execution_count": null,
      "metadata": {
        "jupyter": {
          "outputs_hidden": false
        },
        "id": "cfOREI6zIfI9"
      },
      "outputs": [],
      "source": [
        "import pandas as pd\n",
        "\n",
        "# قراءة البيانات\n",
        "df_data = pd.read_csv(\"Purchase_Data.csv\")\n",
        "\n",
        "# تحويل العمود invoice_time إلى datetime\n",
        "df_data[\"invoice_time\"] = pd.to_datetime(df_data[\"invoice_time\"])\n",
        "\n",
        "# التحقق من أنواع الأعمدة بعد التغيير\n",
        "print(df_data.dtypes)\n"
      ]
    },
    {
      "cell_type": "markdown",
      "metadata": {
        "id": "z6yy8CTxIfI9"
      },
      "source": [
        "Next, let's create columns called \"DOW\" and \"Month\", which store the corresponding weekday and month of the invoice respectively.  Print the head of the dataframe to make sure this was done correctly."
      ]
    },
    {
      "cell_type": "code",
      "execution_count": null,
      "metadata": {
        "jupyter": {
          "outputs_hidden": false
        },
        "id": "FosDftBPIfI9"
      },
      "outputs": [],
      "source": [
        "import pandas as pd\n",
        "\n",
        "# قراءة البيانات\n",
        "df_data = pd.read_csv(\"Purchase_Data.csv\")\n",
        "\n",
        "# تحويل العمود invoice_time إلى datetime\n",
        "df_data[\"invoice_time\"] = pd.to_datetime(df_data[\"invoice_time\"])\n",
        "\n",
        "# إنشاء أعمدة جديدة لليوم من الأسبوع والشهر\n",
        "df_data[\"DOW\"] = df_data[\"invoice_time\"].dt.day_name()   # اسم اليوم (Monday, Tuesday, ...)\n",
        "df_data[\"Month\"] = df_data[\"invoice_time\"].dt.month_name()  # اسم الشهر (January, February, ...)\n",
        "\n",
        "# عرض أول 5 صفوف للتأكد\n",
        "print(df_data.head())\n"
      ]
    },
    {
      "cell_type": "markdown",
      "metadata": {
        "id": "lRmgKaZ0IfI-"
      },
      "source": [
        "Create a variable called num_purchases_wed, which stores the number of purchases made on Wednesday?  You should use value_counts and then index the series it return."
      ]
    },
    {
      "cell_type": "code",
      "execution_count": null,
      "metadata": {
        "jupyter": {
          "outputs_hidden": false
        },
        "id": "4CwABRwAIfI_"
      },
      "outputs": [],
      "source": [
        "import pandas as pd\n",
        "\n",
        "# قراءة البيانات\n",
        "df_data = pd.read_csv(\"Purchase_Data.csv\")\n",
        "\n",
        "# تحويل العمود invoice_time إلى datetime\n",
        "df_data[\"invoice_time\"] = pd.to_datetime(df_data[\"invoice_time\"])\n",
        "\n",
        "# استخراج اليوم من الأسبوع\n",
        "df_data[\"DOW\"] = df_data[\"invoice_time\"].dt.day_name()\n",
        "\n",
        "# حساب عدد المشتريات لكل يوم\n",
        "dow_counts = df_data[\"DOW\"].value_counts()\n",
        "\n",
        "# عدد المشتريات يوم الأربعاء\n",
        "num_purchases_wed = dow_counts[\"Wednesday\"]\n",
        "\n",
        "print(\"Number of purchases made on Wednesday:\", num_purchases_wed)\n"
      ]
    },
    {
      "cell_type": "markdown",
      "metadata": {
        "id": "bqYkfr3VIfJA"
      },
      "source": [
        "# Part 3"
      ]
    },
    {
      "cell_type": "markdown",
      "metadata": {
        "id": "z3PDA4m3IfJA"
      },
      "source": [
        "In this set of practice exercises, we will be working with a demographic data regarding the passengers aboard the Titanic.  Read in the data frame and use the head() method to check that it was read in correctly."
      ]
    },
    {
      "cell_type": "code",
      "execution_count": null,
      "metadata": {
        "jupyter": {
          "outputs_hidden": false
        },
        "id": "smjZIqj3IfJB"
      },
      "outputs": [],
      "source": [
        "import pandas as pd\n",
        "\n",
        "# قراءة الداتا\n",
        "df_titanic = pd.read_csv(\"Titanic.csv\")\n",
        "\n",
        "# عرض أول 5 صفوف\n",
        "print(df_titanic.head())\n"
      ]
    },
    {
      "cell_type": "markdown",
      "metadata": {
        "id": "PLpo8NdYIfJB"
      },
      "source": [
        "Use the rename method to change the column \"Name\" to \"Passenger_Name\" and the column \"Ticket\" to \"Ticket_Num\"."
      ]
    },
    {
      "cell_type": "code",
      "execution_count": null,
      "metadata": {
        "jupyter": {
          "outputs_hidden": false
        },
        "id": "cFPzfEn6IfJB"
      },
      "outputs": [],
      "source": [
        "import pandas as pd\n",
        "\n",
        "# قراءة الداتا\n",
        "df_titanic = pd.read_csv(\"Titanic.csv\")\n",
        "\n",
        "# تغيير أسماء الأعمدة\n",
        "df_titanic = df_titanic.rename(columns={\n",
        "    \"Name\": \"Passenger_Name\",\n",
        "    \"Ticket\": \"Ticket_Num\"\n",
        "})\n",
        "\n",
        "# عرض أول 5 صفوف للتأكد\n",
        "print(df_titanic.head())\n"
      ]
    },
    {
      "cell_type": "markdown",
      "metadata": {
        "id": "R3-XL8GxIfJC"
      },
      "source": [
        "Change the index of the df_titanic to the column PasengerID."
      ]
    },
    {
      "cell_type": "code",
      "execution_count": null,
      "metadata": {
        "jupyter": {
          "outputs_hidden": false
        },
        "scrolled": true,
        "id": "nS37b93dIfJC"
      },
      "outputs": [],
      "source": [
        "import pandas as pd\n",
        "\n",
        "# قراءة البيانات\n",
        "df_titanic = pd.read_csv(\"Titanic.csv\")\n",
        "\n",
        "# تغيير أسماء الأعمدة (لو لسه ما اتعملش)\n",
        "df_titanic = df_titanic.rename(columns={\n",
        "    \"Name\": \"Passenger_Name\",\n",
        "    \"Ticket\": \"Ticket_Num\"\n",
        "})\n",
        "\n",
        "# جعل PassengerId هو الـ index\n",
        "df_titanic = df_titanic.set_index(\"PassengerId\")\n",
        "\n",
        "# عرض أول 5 صفوف للتأكد\n",
        "print(df_titanic.head())\n"
      ]
    },
    {
      "cell_type": "markdown",
      "metadata": {
        "id": "pL_mraUPIfJC"
      },
      "source": [
        "Select the name of passenger 896"
      ]
    },
    {
      "cell_type": "code",
      "execution_count": null,
      "metadata": {
        "jupyter": {
          "outputs_hidden": false
        },
        "id": "x4So_QAuIfJD"
      },
      "outputs": [],
      "source": [
        "import pandas as pd\n",
        "\n",
        "# قراءة البيانات\n",
        "df_titanic = pd.read_csv(\"Titanic.csv\")\n",
        "\n",
        "# تغيير أسماء الأعمدة\n",
        "df_titanic = df_titanic.rename(columns={\n",
        "    \"Name\": \"Passenger_Name\",\n",
        "    \"Ticket\": \"Ticket_Num\"\n",
        "})\n",
        "\n",
        "# جعل PassengerId هو الـ index\n",
        "df_titanic = df_titanic.set_index(\"PassengerId\")\n",
        "\n",
        "# استخراج اسم الراكب 896\n",
        "passenger_896_name = df_titanic.loc[896, \"Passenger_Name\"]\n",
        "\n",
        "print(\"Passenger 896 Name:\", passenger_896_name)\n"
      ]
    },
    {
      "cell_type": "markdown",
      "metadata": {
        "id": "08NzvgGqIfJD"
      },
      "source": [
        "Change the index back to row numbers but making sure that we don't lose the PassengerId column."
      ]
    },
    {
      "cell_type": "code",
      "execution_count": null,
      "metadata": {
        "jupyter": {
          "outputs_hidden": false
        },
        "id": "zNzi4XeZIfJE"
      },
      "outputs": [],
      "source": [
        "import pandas as pd\n",
        "\n",
        "# قراءة البيانات\n",
        "df_titanic = pd.read_csv(\"Titanic.csv\")\n",
        "\n",
        "# تغيير أسماء الأعمدة\n",
        "df_titanic = df_titanic.rename(columns={\n",
        "    \"Name\": \"Passenger_Name\",\n",
        "    \"Ticket\": \"Ticket_Num\"\n",
        "})\n",
        "\n",
        "# جعل PassengerId هو الـ index\n",
        "df_titanic = df_titanic.set_index(\"PassengerId\")\n",
        "\n",
        "# إرجاع الـ index الافتراضي (0,1,2,...) مع الاحتفاظ بعمود PassengerId\n",
        "df_titanic = df_titanic.reset_index()\n",
        "\n",
        "# عرض أول 5 صفوف للتأكد\n",
        "print(df_titanic.head())\n"
      ]
    },
    {
      "cell_type": "markdown",
      "metadata": {
        "id": "U2AohKrIIfJE"
      },
      "source": [
        "How many missing entries are there in the Age column? Use the isnull() method and recall than Booleans are exactly like 1s (True) and 0s (False)."
      ]
    },
    {
      "cell_type": "code",
      "execution_count": null,
      "metadata": {
        "jupyter": {
          "outputs_hidden": false
        },
        "id": "-7K9D7YRIfJE"
      },
      "outputs": [],
      "source": [
        "import pandas as pd\n",
        "\n",
        "# قراءة البيانات\n",
        "df_titanic = pd.read_csv(\"Titanic.csv\")\n",
        "\n",
        "# عدد القيم المفقودة في عمود Age\n",
        "missing_age = df_titanic[\"Age\"].isnull().sum()\n",
        "\n",
        "print(\"Number of missing entries in Age column:\", missing_age)\n"
      ]
    },
    {
      "cell_type": "markdown",
      "metadata": {
        "id": "od1MfgqzIfJF"
      },
      "source": [
        "Compute the avg age of passengers ignoring the missing data."
      ]
    },
    {
      "cell_type": "code",
      "execution_count": null,
      "metadata": {
        "jupyter": {
          "outputs_hidden": false
        },
        "id": "KcJHhqeEIfJF"
      },
      "outputs": [],
      "source": [
        "import pandas as pd\n",
        "\n",
        "# قراءة البيانات\n",
        "df_titanic = pd.read_csv(\"Titanic.csv\")\n",
        "\n",
        "# حساب متوسط عمر الركاب مع تجاهل القيم المفقودة\n",
        "avg_age = df_titanic[\"Age\"].mean()\n",
        "\n",
        "print(\"Average age of passengers (ignoring missing data):\", avg_age)\n"
      ]
    },
    {
      "cell_type": "markdown",
      "metadata": {
        "id": "I7jRVJFKIfJF"
      },
      "source": [
        "Using the fillna() method replace the missing values in the Age column with the mean."
      ]
    },
    {
      "cell_type": "code",
      "execution_count": null,
      "metadata": {
        "jupyter": {
          "outputs_hidden": false
        },
        "id": "pxvbZwB5IfJG"
      },
      "outputs": [],
      "source": [
        "import pandas as pd\n",
        "\n",
        "# قراءة البيانات\n",
        "df_titanic = pd.read_csv(\"Titanic.csv\")\n",
        "\n",
        "# حساب متوسط العمر (مع تجاهل القيم المفقودة)\n",
        "avg_age = df_titanic[\"Age\"].mean()\n",
        "\n",
        "# استبدال القيم المفقودة بالمتوسط\n",
        "df_titanic[\"Age\"] = df_titanic[\"Age\"].fillna(avg_age)\n",
        "\n",
        "# التحقق من إنه مفيش قيم ناقصة\n",
        "print(\"Missing values in Age column after filling:\", df_titanic[\"Age\"].isnull().sum())\n"
      ]
    },
    {
      "cell_type": "markdown",
      "metadata": {
        "id": "YiS47Q4hIfJG"
      },
      "source": [
        "What is the average age of the 5 oldest passengers? The reset_index method will be helpful here."
      ]
    },
    {
      "cell_type": "code",
      "execution_count": null,
      "metadata": {
        "jupyter": {
          "outputs_hidden": false
        },
        "id": "ekUjCTm1IfJG"
      },
      "outputs": [],
      "source": [
        "import pandas as pd\n",
        "\n",
        "# قراءة البيانات\n",
        "df_titanic = pd.read_csv(\"Titanic.csv\")\n",
        "\n",
        "# معالجة القيم المفقودة في Age بالمتوسط\n",
        "df_titanic[\"Age\"] = df_titanic[\"Age\"].fillna(df_titanic[\"Age\"].mean())\n",
        "\n",
        "# ترتيب الركاب حسب العمر تنازلي وأخذ أول 5\n",
        "oldest_5 = df_titanic.sort_values(by=\"Age\", ascending=False).reset_index().head(5)\n",
        "\n",
        "# حساب متوسط أعمارهم\n",
        "avg_oldest_5 = oldest_5[\"Age\"].mean()\n",
        "\n",
        "print(\"Average age of the 5 oldest passengers:\", avg_oldest_5)\n"
      ]
    }
  ],
  "metadata": {
    "kernelspec": {
      "display_name": "Python [conda env:base] *",
      "language": "python",
      "name": "conda-base-py"
    },
    "language_info": {
      "codemirror_mode": {
        "name": "ipython",
        "version": 3
      },
      "file_extension": ".py",
      "mimetype": "text/x-python",
      "name": "python",
      "nbconvert_exporter": "python",
      "pygments_lexer": "ipython3",
      "version": "3.12.7"
    },
    "toc": {
      "nav_menu": {
        "height": "48px",
        "width": "252px"
      },
      "number_sections": true,
      "sideBar": true,
      "skip_h1_title": false,
      "toc_cell": false,
      "toc_position": {},
      "toc_section_display": "block",
      "toc_window_display": false
    },
    "colab": {
      "provenance": [],
      "include_colab_link": true
    }
  },
  "nbformat": 4,
  "nbformat_minor": 0
}